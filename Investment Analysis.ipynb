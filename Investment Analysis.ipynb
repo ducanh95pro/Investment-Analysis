{
 "cells": [
  {
   "cell_type": "markdown",
   "metadata": {},
   "source": [
    "### Required Libraries:\n",
    "- Pandas\n",
    "- Numpy\n",
    "- Datetime\n",
    "- Yfinance\n",
    "- Scipy\n",
    "- Matplotlib"
   ]
  },
  {
   "cell_type": "code",
   "execution_count": 1,
   "metadata": {},
   "outputs": [],
   "source": [
    "import pandas as pd\n",
    "import numpy as np\n",
    "import datetime\n",
    "import yfinance as yf\n",
    "import scipy.stats\n",
    "import matplotlib.pyplot as plt\n",
    "import random\n",
    "%matplotlib inline"
   ]
  },
  {
   "cell_type": "markdown",
   "metadata": {},
   "source": [
    "### Getting Data"
   ]
  },
  {
   "cell_type": "markdown",
   "metadata": {},
   "source": [
    "Getting Started with data of stocks from Downjones Index"
   ]
  },
  {
   "cell_type": "code",
   "execution_count": 2,
   "metadata": {},
   "outputs": [
    {
     "name": "stdout",
     "output_type": "stream",
     "text": [
      "[*********************100%***********************]  30 of 30 completed\n"
     ]
    }
   ],
   "source": [
    "djia_comp=(pd.read_html('https://en.wikipedia.org/wiki/Dow_Jones_Industrial_Average'))[1].Symbol.to_list()\n",
    "djia_data=(yf.download(djia_comp,threads=False))['Adj Close']\n",
    "djia_data=(djia_data.loc['1995':]).dropna(axis=1) "
   ]
  },
  {
   "cell_type": "markdown",
   "metadata": {},
   "source": [
    "### I. Risky assets characteristics\n",
    "### 1. Basic Quantitative Analysis\n",
    "- Expected Return\n",
    "- Standard deviation/ Covariance/ Correlations\n",
    "- Skewness/ Kurtorsis\n",
    "- Maximum drawdown\n"
   ]
  },
  {
   "cell_type": "code",
   "execution_count": 3,
   "metadata": {},
   "outputs": [],
   "source": [
    "df_returns=djia_data.pct_change().dropna() #Expected Returns\n",
    "sd=df_returns.std() #standard deviation\n",
    "df_m_ret = df_returns.resample('M').sum() #Get Monthly Returns"
   ]
  },
  {
   "cell_type": "markdown",
   "metadata": {},
   "source": [
    "Functions to compute annualized return and volatility, given series of returns"
   ]
  },
  {
   "cell_type": "code",
   "execution_count": 6,
   "metadata": {},
   "outputs": [],
   "source": [
    "def annualized_return(r,periods_per_year=252,log_return=True):\n",
    "    \"\"\"\n",
    "    Compute annualized return, given a series of returns\n",
    "    \"\"\"\n",
    "    total_return=(1+r).prod()\n",
    "    n=r.shape[0]\n",
    "    if log_return:\n",
    "        annualized_return=r.mean()*periods_per_year\n",
    "    else:\n",
    "        annualized_return=total_return**(periods_per_year/n)-1\n",
    "    return annualized_return\n",
    "\n",
    "def annualized_volatility(r,periods_per_year=252):\n",
    "    \"\"\"\n",
    "    Compute annualized volatility of an asset\n",
    "    \"\"\"\n",
    "    sd=r.std() #Volatility per period\n",
    "    ann_vol=sd*(periods_per_year**0.5) #Annualized Volatility\n",
    "    return ann_vol"
   ]
  },
  {
   "cell_type": "markdown",
   "metadata": {},
   "source": [
    "Compute Maximum drawdown"
   ]
  },
  {
   "cell_type": "code",
   "execution_count": 7,
   "metadata": {},
   "outputs": [],
   "source": [
    "def maximum_drawdown(r):\n",
    "    \"\"\"\n",
    "    Compute maximum drawdown\n",
    "    \"\"\"\n",
    "    wealth=(1+r).cumprod()\n",
    "    previous_peak=wealth.cummax()\n",
    "    drawdown=wealth/previous_peak-1\n",
    "    return drawdown.min()"
   ]
  },
  {
   "cell_type": "markdown",
   "metadata": {},
   "source": [
    "Skewness and Kurtosis: Normal distribution has skewness and kurtosis of roughly 0 and 3 respectively"
   ]
  },
  {
   "cell_type": "code",
   "execution_count": 8,
   "metadata": {},
   "outputs": [],
   "source": [
    "def skewness(r):\n",
    "    \"\"\"\n",
    "    Compute skewness\n",
    "    \"\"\"\n",
    "    demean=r-r.mean()\n",
    "    sd=r.std(ddof=0)\n",
    "    skewness=(demean**3).mean()/sd**3\n",
    "    return skewness\n",
    "\n",
    "def kurtosis(r):\n",
    "    demean=r-r.mean()\n",
    "    sd=r.std(ddof=0)\n",
    "    kurtosis=(demean**4).mean()/sd**4\n",
    "    return kurtosis\n",
    "    "
   ]
  },
  {
   "cell_type": "markdown",
   "metadata": {},
   "source": [
    "#### Take an example of Apple stock, ticker: AAPL\n",
    "Using above function to compute annual return, volatility, skewness, kurtosis and maximum drawdown"
   ]
  },
  {
   "cell_type": "code",
   "execution_count": 11,
   "metadata": {},
   "outputs": [
    {
     "data": {
      "text/plain": [
       "Index(['AAPL', 'AMGN', 'AXP', 'BA', 'CAT', 'CSCO', 'CVX', 'DIS', 'HD', 'HON',\n",
       "       'IBM', 'INTC', 'JNJ', 'JPM', 'KO', 'MCD', 'MMM', 'MRK', 'MSFT', 'NKE',\n",
       "       'PG', 'TRV', 'UNH', 'VZ', 'WBA', 'WMT'],\n",
       "      dtype='object')"
      ]
     },
     "execution_count": 11,
     "metadata": {},
     "output_type": "execute_result"
    }
   ],
   "source": [
    "# List of tickers\n",
    "djia_data.columns"
   ]
  },
  {
   "cell_type": "code",
   "execution_count": 12,
   "metadata": {},
   "outputs": [
    {
     "name": "stdout",
     "output_type": "stream",
     "text": [
      "Ticker:  AAPL\n",
      "Annualized return: 32.96 %\n",
      "Annualized Volatility: 43.66 %\n",
      "Max Drawdown: -81.80 %\n",
      "Skewness: -0.46 \n",
      "Kurtosis: 29.80\n"
     ]
    }
   ],
   "source": [
    "ticker='AAPL'\n",
    "r=df_returns[ticker]\n",
    "expected_return = annualized_return(r)\n",
    "annual_volatility = annualized_volatility(r)\n",
    "max_dd = maximum_drawdown(r)\n",
    "skewness_r = skewness(r)\n",
    "kurtosis_r = kurtosis(r)\n",
    "print('Ticker: ',ticker)\n",
    "print('Annualized return: {:.2f} %'.format(100*expected_return))\n",
    "print('Annualized Volatility: {:.2f} %'.format(100*annual_volatility))\n",
    "print('Max Drawdown: {:.2f} %'.format(100*max_dd))\n",
    "print('Skewness: {0:.2f} \\nKurtosis: {1:.2f}'.format(skewness_r,kurtosis_r))"
   ]
  },
  {
   "cell_type": "markdown",
   "metadata": {},
   "source": [
    "#### Visualized stock price"
   ]
  },
  {
   "cell_type": "code",
   "execution_count": 13,
   "metadata": {},
   "outputs": [
    {
     "data": {
      "text/plain": [
       "<matplotlib.axes._subplots.AxesSubplot at 0x1739414c248>"
      ]
     },
     "execution_count": 13,
     "metadata": {},
     "output_type": "execute_result"
    },
    {
     "data": {
      "image/png": "[encoded data removed]",
      "text/plain": [
       "<Figure size 864x360 with 1 Axes>"
      ]
     },
     "metadata": {
      "needs_background": "light"
     },
     "output_type": "display_data"
    }
   ],
   "source": [
    "djia_data[ticker].plot(grid=True,figsize=(12,5),legend=True)"
   ]
  },
  {
   "cell_type": "markdown",
   "metadata": {},
   "source": [
    "### 2. Value at Risk (VaR)\n",
    "- Historial VaR: Non - parametric approach\n",
    "- Gaussian VaR: Parametric approach\n",
    "- Conditional VaR or CVaR or Expected Shortfall (ES)\n",
    "- Cornish - Fisher VaR: Hybrid approach"
   ]
  },
  {
   "cell_type": "code",
   "execution_count": 14,
   "metadata": {},
   "outputs": [],
   "source": [
    "def historical_var(r,level=5):\n",
    "    \"\"\"\n",
    "    Return historical Value at Risk (VaR) at a specified level,\n",
    "    default is 5 percent\n",
    "    VaR is returned as an absolute value\n",
    "    \"\"\"\n",
    "    if isinstance(r,pd.DataFrame):\n",
    "        return r.aggregate(historical_var,level=level)\n",
    "    elif isinstance(r,pd.Series):\n",
    "        return -np.percentile(r,level)\n",
    "    \n",
    "from scipy.stats import norm\n",
    "\n",
    "def guassian_var(r,level=5):\n",
    "    \"\"\"\n",
    "    Assuming that return series are normally distributed, \n",
    "    VaR is computed, using Z - score, mean and standard deviation\n",
    "    \"\"\"\n",
    "    z=norm.ppf(level/100)\n",
    "    var = -(r.mean() + z*r.std()) #VaR takes absolute value\n",
    "    return var\n",
    "\n",
    "def cvar_historical(r,level=5):\n",
    "    if isinstance(r,pd.Series):\n",
    "        beyond_var_ = r <= -historical_var(r,level=level)\n",
    "        return -r[beyond_var_].mean()\n",
    "    elif isinstance(r, pd.DataFrame):\n",
    "        return r.aggregate(cvar_historical, level=level)\n",
    "    \n",
    "def cornish_fisher_var(r,level=5):\n",
    "    z = norm.ppf(level/100)\n",
    "    s = skewness(r)\n",
    "    k = kurtosis(r)\n",
    "    z = (z +\n",
    "            (z**2 - 1)*s/6 +\n",
    "            (z**3 -3*z)*(k-3)/24 -\n",
    "            (2*z**3 - 5*z)*(s**2)/36\n",
    "        )\n",
    "    return - (r.mean() +z*r.std())"
   ]
  },
  {
   "cell_type": "code",
   "execution_count": 15,
   "metadata": {},
   "outputs": [
    {
     "name": "stdout",
     "output_type": "stream",
     "text": [
      "Ticker:  AAPL\n",
      "Historical Value at risk (5%): 3.96 %\n",
      "Guassian Value at risk (5%): 4.39 %\n",
      "Conditional Value at risk - CVaR/ Expected shortfall (5%): 5.99 %\n",
      "Cornish - Fisher Value at risk (5%): 3.25 %\n"
     ]
    }
   ],
   "source": [
    "print('Ticker: ', ticker)\n",
    "print('Historical Value at risk (5%): {:.2f} %'.format(100*historical_var(r)))\n",
    "print('Guassian Value at risk (5%): {:.2f} %'.format(100*guassian_var(r)))\n",
    "print('Conditional Value at risk - CVaR/ Expected shortfall (5%): {:.2f} %'.format(100*cvar_historical(r)))\n",
    "print('Cornish - Fisher Value at risk (5%): {:.2f} %'.format(100*cornish_fisher_var(r)))"
   ]
  },
  {
   "cell_type": "markdown",
   "metadata": {},
   "source": [
    "### 3. Sharpe Ratio"
   ]
  },
  {
   "cell_type": "code",
   "execution_count": 16,
   "metadata": {},
   "outputs": [],
   "source": [
    "def sharpe_ratio(r,rf=0.03,n=252,log_return=True):\n",
    "    \"\"\"\n",
    "    Compute sharpe ratio, given return series, risk-free rate (rf)\n",
    "    Number of periods per year (n)\n",
    "    \"\"\"\n",
    "    if log_return:\n",
    "        rf_per_period = np.log(1+rf)/n\n",
    "    else:\n",
    "        rf_per_period = (1 + rf)**(1/n) - 1\n",
    "    excess_ret = r - rf_per_period\n",
    "    ann_excess_ret = annualized_return(excess_ret,n)\n",
    "    ann_vol = annualized_volatility(r,n)\n",
    "    sharpe_ratio = ann_excess_ret/ann_vol\n",
    "    return sharpe_ratio"
   ]
  },
  {
   "cell_type": "code",
   "execution_count": 17,
   "metadata": {},
   "outputs": [
    {
     "name": "stdout",
     "output_type": "stream",
     "text": [
      "AAPL has sharpe ratio of 0.69\n"
     ]
    }
   ],
   "source": [
    "print(ticker,'has sharpe ratio of {:.2f}'.format(sharpe_ratio(r)))"
   ]
  },
  {
   "cell_type": "markdown",
   "metadata": {},
   "source": [
    "### 4. Summary statistics of risky assets, all in one Function\n",
    "Annualized return, volatility, skewness, kurtosis, Value at risk, Maximum drawdown and Sharpe ratio"
   ]
  },
  {
   "cell_type": "code",
   "execution_count": 18,
   "metadata": {},
   "outputs": [],
   "source": [
    "def summary_stats(df,n=12,level=5):\n",
    "    ann_ret = annualized_return(df,n)\n",
    "    ann_vol = annualized_volatility(df,n)\n",
    "    s = skewness(df)\n",
    "    k = kurtosis(df)\n",
    "    his_var = historical_var(df,level)\n",
    "    guass_var = guassian_var(df,level)\n",
    "    c_var = cvar_historical(df,level)\n",
    "    sharpe_r = sharpe_ratio(df,n=n)\n",
    "    max_dd = maximum_drawdown(df)\n",
    "    return pd.DataFrame(data={'Annualized Return':ann_ret,'Annualized Volatility':ann_vol,'Skewness':s,\n",
    "                             'Kurtosis': k,'Historical VaR (5%)': his_var, 'Guassian VaR (5%)': guass_var,\n",
    "                             'Conditional VaR (5%)': c_var,'Sharpe Ratio':sharpe_r,'Max Drawdown':max_dd})\n",
    "    "
   ]
  },
  {
   "cell_type": "code",
   "execution_count": 19,
   "metadata": {},
   "outputs": [
    {
     "data": {
      "text/html": [
       "<div>\n",
       "<style scoped>\n",
       "    .dataframe tbody tr th:only-of-type {\n",
       "        vertical-align: middle;\n",
       "    }\n",
       "\n",
       "    .dataframe tbody tr th {\n",
       "        vertical-align: top;\n",
       "    }\n",
       "\n",
       "    .dataframe thead th {\n",
       "        text-align: right;\n",
       "    }\n",
       "</style>\n",
       "<table border=\"1\" class=\"dataframe\">\n",
       "  <thead>\n",
       "    <tr style=\"text-align: right;\">\n",
       "      <th></th>\n",
       "      <th>Annualized Return</th>\n",
       "      <th>Annualized Volatility</th>\n",
       "      <th>Skewness</th>\n",
       "      <th>Kurtosis</th>\n",
       "      <th>Historical VaR (5%)</th>\n",
       "      <th>Guassian VaR (5%)</th>\n",
       "      <th>Conditional VaR (5%)</th>\n",
       "      <th>Sharpe Ratio</th>\n",
       "      <th>Max Drawdown</th>\n",
       "    </tr>\n",
       "  </thead>\n",
       "  <tbody>\n",
       "    <tr>\n",
       "      <th>UNH</th>\n",
       "      <td>0.231263</td>\n",
       "      <td>0.278266</td>\n",
       "      <td>-1.244867</td>\n",
       "      <td>7.457440</td>\n",
       "      <td>0.111381</td>\n",
       "      <td>0.112857</td>\n",
       "      <td>0.192874</td>\n",
       "      <td>0.724862</td>\n",
       "      <td>-0.659883</td>\n",
       "    </tr>\n",
       "    <tr>\n",
       "      <th>AAPL</th>\n",
       "      <td>0.328812</td>\n",
       "      <td>0.416986</td>\n",
       "      <td>-0.684179</td>\n",
       "      <td>6.080505</td>\n",
       "      <td>0.157941</td>\n",
       "      <td>0.170596</td>\n",
       "      <td>0.259918</td>\n",
       "      <td>0.717657</td>\n",
       "      <td>-0.818616</td>\n",
       "    </tr>\n",
       "    <tr>\n",
       "      <th>MSFT</th>\n",
       "      <td>0.230202</td>\n",
       "      <td>0.294144</td>\n",
       "      <td>0.038834</td>\n",
       "      <td>5.557957</td>\n",
       "      <td>0.111715</td>\n",
       "      <td>0.120484</td>\n",
       "      <td>0.162669</td>\n",
       "      <td>0.682125</td>\n",
       "      <td>-0.662753</td>\n",
       "    </tr>\n",
       "    <tr>\n",
       "      <th>HD</th>\n",
       "      <td>0.197544</td>\n",
       "      <td>0.248894</td>\n",
       "      <td>-0.075137</td>\n",
       "      <td>3.676800</td>\n",
       "      <td>0.097584</td>\n",
       "      <td>0.101720</td>\n",
       "      <td>0.145400</td>\n",
       "      <td>0.674926</td>\n",
       "      <td>-0.630085</td>\n",
       "    </tr>\n",
       "    <tr>\n",
       "      <th>NKE</th>\n",
       "      <td>0.218110</td>\n",
       "      <td>0.281711</td>\n",
       "      <td>-0.674510</td>\n",
       "      <td>7.556733</td>\n",
       "      <td>0.114019</td>\n",
       "      <td>0.115588</td>\n",
       "      <td>0.181425</td>\n",
       "      <td>0.669307</td>\n",
       "      <td>-0.624294</td>\n",
       "    </tr>\n",
       "    <tr>\n",
       "      <th>MCD</th>\n",
       "      <td>0.155143</td>\n",
       "      <td>0.201236</td>\n",
       "      <td>-0.571529</td>\n",
       "      <td>5.156471</td>\n",
       "      <td>0.089106</td>\n",
       "      <td>0.082624</td>\n",
       "      <td>0.127208</td>\n",
       "      <td>0.624063</td>\n",
       "      <td>-0.688438</td>\n",
       "    </tr>\n",
       "    <tr>\n",
       "      <th>JNJ</th>\n",
       "      <td>0.136872</td>\n",
       "      <td>0.177831</td>\n",
       "      <td>-0.118830</td>\n",
       "      <td>3.959535</td>\n",
       "      <td>0.072159</td>\n",
       "      <td>0.073033</td>\n",
       "      <td>0.105883</td>\n",
       "      <td>0.603454</td>\n",
       "      <td>-0.321388</td>\n",
       "    </tr>\n",
       "    <tr>\n",
       "      <th>AMGN</th>\n",
       "      <td>0.188620</td>\n",
       "      <td>0.277308</td>\n",
       "      <td>0.517458</td>\n",
       "      <td>4.578940</td>\n",
       "      <td>0.110731</td>\n",
       "      <td>0.115955</td>\n",
       "      <td>0.144496</td>\n",
       "      <td>0.573591</td>\n",
       "      <td>-0.492173</td>\n",
       "    </tr>\n",
       "    <tr>\n",
       "      <th>PG</th>\n",
       "      <td>0.132830</td>\n",
       "      <td>0.184493</td>\n",
       "      <td>-1.161877</td>\n",
       "      <td>11.260331</td>\n",
       "      <td>0.069200</td>\n",
       "      <td>0.076533</td>\n",
       "      <td>0.118823</td>\n",
       "      <td>0.559757</td>\n",
       "      <td>-0.489600</td>\n",
       "    </tr>\n",
       "    <tr>\n",
       "      <th>AXP</th>\n",
       "      <td>0.190366</td>\n",
       "      <td>0.292172</td>\n",
       "      <td>1.056713</td>\n",
       "      <td>17.404295</td>\n",
       "      <td>0.134292</td>\n",
       "      <td>0.122868</td>\n",
       "      <td>0.186638</td>\n",
       "      <td>0.550386</td>\n",
       "      <td>-0.767453</td>\n",
       "    </tr>\n",
       "  </tbody>\n",
       "</table>\n",
       "</div>"
      ],
      "text/plain": [
       "      Annualized Return  Annualized Volatility  Skewness   Kurtosis  \\\n",
       "UNH            0.231263               0.278266 -1.244867   7.457440   \n",
       "AAPL           0.328812               0.416986 -0.684179   6.080505   \n",
       "MSFT           0.230202               0.294144  0.038834   5.557957   \n",
       "HD             0.197544               0.248894 -0.075137   3.676800   \n",
       "NKE            0.218110               0.281711 -0.674510   7.556733   \n",
       "MCD            0.155143               0.201236 -0.571529   5.156471   \n",
       "JNJ            0.136872               0.177831 -0.118830   3.959535   \n",
       "AMGN           0.188620               0.277308  0.517458   4.578940   \n",
       "PG             0.132830               0.184493 -1.161877  11.260331   \n",
       "AXP            0.190366               0.292172  1.056713  17.404295   \n",
       "\n",
       "      Historical VaR (5%)  Guassian VaR (5%)  Conditional VaR (5%)  \\\n",
       "UNH              0.111381           0.112857              0.192874   \n",
       "AAPL             0.157941           0.170596              0.259918   \n",
       "MSFT             0.111715           0.120484              0.162669   \n",
       "HD               0.097584           0.101720              0.145400   \n",
       "NKE              0.114019           0.115588              0.181425   \n",
       "MCD              0.089106           0.082624              0.127208   \n",
       "JNJ              0.072159           0.073033              0.105883   \n",
       "AMGN             0.110731           0.115955              0.144496   \n",
       "PG               0.069200           0.076533              0.118823   \n",
       "AXP              0.134292           0.122868              0.186638   \n",
       "\n",
       "      Sharpe Ratio  Max Drawdown  \n",
       "UNH       0.724862     -0.659883  \n",
       "AAPL      0.717657     -0.818616  \n",
       "MSFT      0.682125     -0.662753  \n",
       "HD        0.674926     -0.630085  \n",
       "NKE       0.669307     -0.624294  \n",
       "MCD       0.624063     -0.688438  \n",
       "JNJ       0.603454     -0.321388  \n",
       "AMGN      0.573591     -0.492173  \n",
       "PG        0.559757     -0.489600  \n",
       "AXP       0.550386     -0.767453  "
      ]
     },
     "execution_count": 19,
     "metadata": {},
     "output_type": "execute_result"
    }
   ],
   "source": [
    "summary_statistics = summary_stats(df_m_ret,12,5)\n",
    "summary_statistics.sort_values(by='Sharpe Ratio',ascending=False).head(10)"
   ]
  },
  {
   "cell_type": "markdown",
   "metadata": {},
   "source": [
    "### II. Portfolio Analysis"
   ]
  },
  {
   "cell_type": "markdown",
   "metadata": {},
   "source": [
    "2-asset Portfolio: Benefit of Diversification"
   ]
  },
  {
   "cell_type": "code",
   "execution_count": 20,
   "metadata": {},
   "outputs": [],
   "source": [
    "assets_2 = ['JNJ','CSCO']\n",
    "expected_return = annualized_return(df_returns)[assets_2]\n",
    "ann_vol = annualized_volatility(df_returns)[assets_2]\n",
    "cov_matrix = 252*(df_returns.cov()).loc[assets_2,assets_2]\n",
    "corr_matrix = (df_returns.corr()).loc[assets_2,assets_2]"
   ]
  },
  {
   "cell_type": "code",
   "execution_count": 21,
   "metadata": {},
   "outputs": [
    {
     "data": {
      "text/html": [
       "<div>\n",
       "<style scoped>\n",
       "    .dataframe tbody tr th:only-of-type {\n",
       "        vertical-align: middle;\n",
       "    }\n",
       "\n",
       "    .dataframe tbody tr th {\n",
       "        vertical-align: top;\n",
       "    }\n",
       "\n",
       "    .dataframe thead th {\n",
       "        text-align: right;\n",
       "    }\n",
       "</style>\n",
       "<table border=\"1\" class=\"dataframe\">\n",
       "  <thead>\n",
       "    <tr style=\"text-align: right;\">\n",
       "      <th></th>\n",
       "      <th>JNJ</th>\n",
       "      <th>CSCO</th>\n",
       "    </tr>\n",
       "  </thead>\n",
       "  <tbody>\n",
       "    <tr>\n",
       "      <th>JNJ</th>\n",
       "      <td>1.000000</td>\n",
       "      <td>0.260326</td>\n",
       "    </tr>\n",
       "    <tr>\n",
       "      <th>CSCO</th>\n",
       "      <td>0.260326</td>\n",
       "      <td>1.000000</td>\n",
       "    </tr>\n",
       "  </tbody>\n",
       "</table>\n",
       "</div>"
      ],
      "text/plain": [
       "           JNJ      CSCO\n",
       "JNJ   1.000000  0.260326\n",
       "CSCO  0.260326  1.000000"
      ]
     },
     "execution_count": 21,
     "metadata": {},
     "output_type": "execute_result"
    }
   ],
   "source": [
    "corr_matrix"
   ]
  },
  {
   "cell_type": "code",
   "execution_count": 22,
   "metadata": {},
   "outputs": [],
   "source": [
    "def portfolio_return(w,er):\n",
    "    return w.T@er\n",
    "\n",
    "def portfolio_volatility(w,cov):\n",
    "    return (w.T@cov@w)**0.5"
   ]
  },
  {
   "cell_type": "markdown",
   "metadata": {},
   "source": [
    "#### Efficient Frontier with 2 risky assets"
   ]
  },
  {
   "cell_type": "code",
   "execution_count": 23,
   "metadata": {},
   "outputs": [],
   "source": [
    "weights = [np.array([w,1-w]) for w in np.linspace(0,1,20)]\n",
    "returns = [portfolio_return(w,expected_return) for w in weights]\n",
    "volatility = [portfolio_volatility(w,cov_matrix) for w in weights]\n",
    "ef_2 = pd.DataFrame(data={'Return':returns,'Volatility':volatility})"
   ]
  },
  {
   "cell_type": "code",
   "execution_count": 24,
   "metadata": {},
   "outputs": [
    {
     "data": {
      "text/plain": [
       "<matplotlib.legend.Legend at 0x17394442fc8>"
      ]
     },
     "execution_count": 24,
     "metadata": {},
     "output_type": "execute_result"
    },
    {
     "data": {
      "image/png": "[encoded data removed]",
      "text/plain": [
       "<Figure size 576x360 with 1 Axes>"
      ]
     },
     "metadata": {
      "needs_background": "light"
     },
     "output_type": "display_data"
    }
   ],
   "source": [
    "ax=ef_2.plot.line(x='Volatility',y='Return',style='.-',figsize=(8,5),grid=True,title='Efficient Frontier - 2 Assets')\n",
    "ax.plot([ann_vol[assets_2[0]]],[expected_return[assets_2[0]]],marker='o',markersize=10,label=assets_2[0],color='r')\n",
    "ax.plot([ann_vol[assets_2[1]]],[expected_return[assets_2[1]]],marker='o',markersize=10,label=assets_2[1],color='g')\n",
    "ax.legend()"
   ]
  },
  {
   "cell_type": "markdown",
   "metadata": {},
   "source": [
    "#### Efficient Frontier with N assets"
   ]
  },
  {
   "cell_type": "code",
   "execution_count": 25,
   "metadata": {},
   "outputs": [],
   "source": [
    "from scipy.optimize import minimize"
   ]
  },
  {
   "cell_type": "markdown",
   "metadata": {},
   "source": [
    "#### Steps in construction of Efficient Frontier:\n",
    "- Obtain Expected Return and Covariance Matrix\n",
    "- Obtain Optimal Weights: The weight at which volatility is minimize for a given level of return"
   ]
  },
  {
   "cell_type": "code",
   "execution_count": 26,
   "metadata": {},
   "outputs": [],
   "source": [
    "er = annualized_return(df_returns)\n",
    "cov = df_returns.cov()*252\n",
    "risk_free = 0.03"
   ]
  },
  {
   "cell_type": "code",
   "execution_count": 27,
   "metadata": {},
   "outputs": [],
   "source": [
    "def minimize_volatility(target_return, cov, er):\n",
    "    n = cov.shape[0]\n",
    "    init_guess = np.repeat(1/n,n)\n",
    "    sum_to_1 = {'type':'eq',\n",
    "               'fun': lambda w: np.sum(w) - 1}\n",
    "    target_return_met = {'type':'eq',\n",
    "                         'args':(er,),\n",
    "                        'fun': lambda w,er: portfolio_return(w,er) - target_return}\n",
    "    bounds = ((0.0,1.0),)*n\n",
    "    result = minimize(portfolio_volatility, init_guess,\n",
    "                     args=(cov,),method='SLSQP',\n",
    "                     bounds=bounds,\n",
    "                     constraints=(sum_to_1,target_return_met))\n",
    "    return result.x"
   ]
  },
  {
   "cell_type": "code",
   "execution_count": 28,
   "metadata": {},
   "outputs": [],
   "source": [
    "def optimal_weights(er,cov,n=30):\n",
    "    x = np.linspace(er.min(),er.max(),n)\n",
    "    weights = [minimize_volatility(r,cov,er) for r in x]\n",
    "    return weights\n",
    "    "
   ]
  },
  {
   "cell_type": "markdown",
   "metadata": {},
   "source": [
    "Max Sharpe ratio and Global minimum variance Portfolio"
   ]
  },
  {
   "cell_type": "code",
   "execution_count": 29,
   "metadata": {},
   "outputs": [],
   "source": [
    "def max_sharpe(er,cov,rf=0.03,max_w=1.0):\n",
    "    n = cov.shape[0]\n",
    "    init_guess = np.repeat(1/n,n)\n",
    "    bounds = ((0,max_w),)*n\n",
    "    def negative_sharpe(weights,er,cov,rf):\n",
    "        p_return = portfolio_return(weights,er)\n",
    "        p_vol = portfolio_volatility(weights,cov)\n",
    "        return -(p_return - rf)/p_vol\n",
    "    weights_sum_to_1 = {'type':'eq',\n",
    "                       'fun': lambda w: np.sum(w) - 1}\n",
    "    result = minimize(negative_sharpe, init_guess,\n",
    "                     args=(er,cov,rf),method='SLSQP',\n",
    "                     bounds=bounds,\n",
    "                     constraints=(weights_sum_to_1))  \n",
    "    return result.x\n",
    "\n",
    "def gmv(cov,max_w=1):\n",
    "    n = cov.shape[0]\n",
    "    return max_sharpe(np.repeat(1,n),cov,0,max_w)\n",
    "    "
   ]
  },
  {
   "cell_type": "code",
   "execution_count": 30,
   "metadata": {},
   "outputs": [],
   "source": [
    "weights = optimal_weights(er,cov,25)\n",
    "ret = [portfolio_return(w,er) for w in weights]\n",
    "vol = [portfolio_volatility(w,cov) for w in weights]\n",
    "ef_n = pd.DataFrame(data={'Return':ret,'Volatility':vol})"
   ]
  },
  {
   "cell_type": "code",
   "execution_count": 31,
   "metadata": {},
   "outputs": [],
   "source": [
    "msr_w = max_sharpe(er,cov,risk_free)\n",
    "msr_r = portfolio_return(msr_w,er)\n",
    "msr_v = portfolio_volatility(msr_w,cov)\n",
    "gmv_w = gmv(cov)\n",
    "gmv_r = portfolio_return(gmv_w,er)\n",
    "gmv_v = portfolio_volatility(gmv_w,cov)"
   ]
  },
  {
   "cell_type": "code",
   "execution_count": 32,
   "metadata": {},
   "outputs": [
    {
     "data": {
      "text/plain": [
       "<matplotlib.legend.Legend at 0x17393e2cd08>"
      ]
     },
     "execution_count": 32,
     "metadata": {},
     "output_type": "execute_result"
    },
    {
     "data": {
      "image/png": "[encoded data removed]",
      "text/plain": [
       "<Figure size 648x360 with 1 Axes>"
      ]
     },
     "metadata": {
      "needs_background": "light"
     },
     "output_type": "display_data"
    }
   ],
   "source": [
    "ax=ef_n.plot.line(x='Volatility',y='Return',style='.-',grid=True,figsize=(9,5),title='Efficient Frontier')\n",
    "ax.plot([msr_v],[msr_r],color='red',marker='o',markersize=10,label='Max Sharpe Portfolio')\n",
    "ax.plot([0,msr_v],[risk_free,msr_r],color='green',linestyle='--',label='Capital Market Line')\n",
    "ax.plot([gmv_v],[gmv_r],color='midnightblue',marker='o',markersize=10,label='GMV Portfolio')\n",
    "ax.legend()"
   ]
  },
  {
   "cell_type": "markdown",
   "metadata": {},
   "source": [
    "#### Backtest different Portfolio construction techniques"
   ]
  },
  {
   "cell_type": "markdown",
   "metadata": {},
   "source": [
    "Backtest uses monthly returns, rebalance every month"
   ]
  },
  {
   "cell_type": "code",
   "execution_count": 33,
   "metadata": {},
   "outputs": [],
   "source": [
    "def weight_ew(r,**kwargs):\n",
    "    n = r.shape[1]\n",
    "    weights = pd.Series(np.repeat(1/n,n),index=r.columns)\n",
    "    return weights"
   ]
  },
  {
   "cell_type": "code",
   "execution_count": 34,
   "metadata": {},
   "outputs": [],
   "source": [
    "def sample_cov(r):\n",
    "    return r.cov()\n",
    "\n",
    "def cc_cov(r):\n",
    "    \"\"\"\n",
    "    Estimation of CoVariance Matrix based on Constant correlation Model\n",
    "    \"\"\"\n",
    "    corr_mat = r.corr()\n",
    "    n = corr_mat.shape[1]\n",
    "    rho_bar = (corr_mat.values.sum()-n)/(n*(n-1))\n",
    "    cc = np.full_like(corr_mat,rho_bar)\n",
    "    np.fill_diagonal(cc,1.0)\n",
    "    sd = r.std()\n",
    "    return pd.DataFrame(cc*np.outer(sd,sd),index=r.columns,columns=r.columns)\n",
    "\n",
    "def ewm_cov(r,alpha=0.06,**kwargs):\n",
    "    \"\"\"\n",
    "    Compute Covariance Matrix given Return Series\n",
    "    \n",
    "    \"\"\"\n",
    "    ewm_cov=r.ewm(alpha=alpha).cov()\n",
    "    d=(ewm_cov.index[-1][0]).strftime('%Y-%m-%d')\n",
    "    cov=(ewm_cov.loc[d,:]).values\n",
    "    cov_df=pd.DataFrame(cov,index=r.columns,columns=r.columns)\n",
    "    return cov_df\n",
    "\n",
    "def shrinkage_cov(r,delta=0.5):\n",
    "    prior = cc_cov(r)\n",
    "    sample = sample_cov(r)\n",
    "    return delta*prior + (1-delta)*sample\n",
    "    \n",
    "\n",
    "def weight_gmv(r,cov_estimator=sample_cov,max_w=1):\n",
    "    cov_estimation = cov_estimator(r)\n",
    "    return gmv(cov_estimation,max_w)\n",
    "\n",
    "    "
   ]
  },
  {
   "cell_type": "code",
   "execution_count": 35,
   "metadata": {},
   "outputs": [],
   "source": [
    "def risk_contribution(cov,weight):\n",
    "    pvar = portfolio_volatility(weight,cov)\n",
    "    return np.multiply(weight,cov@weight)/pvar\n",
    "\n",
    "def target_risk_contribution(target_risk,cov):\n",
    "    def msd(weights,target_risk,cov):\n",
    "        risk_contrib = risk_contribution(cov,weights)\n",
    "        return ((target_risk - risk_contrib)**2).sum()\n",
    "    n = cov.shape[0]\n",
    "    init_guess = np.repeat(1/n,n)\n",
    "    bounds = ((0,1),)*n\n",
    "    w_sum_to_1 = {'type':'eq',\n",
    "                 'fun': lambda w: w.sum()-1}\n",
    "    results=scipy.optimize.minimize(msd, init_guess, args=(target_risk,cov),\n",
    "                           method='SLSQP',bounds=bounds, constraints=(w_sum_to_1))\n",
    "    return results.x\n",
    "\n",
    "def equal_risk_contribution(cov):\n",
    "    n = cov.shape[0]\n",
    "    target = np.repeat(1/n,n)\n",
    "    return target_risk_contribution(target,cov)\n",
    "\n",
    "def weight_erc(r,cov_estimator=sample_cov,**kwargs):\n",
    "    cov_est = cov_estimator(r)\n",
    "    return equal_risk_contribution(cov_est)"
   ]
  },
  {
   "cell_type": "code",
   "execution_count": 36,
   "metadata": {},
   "outputs": [],
   "source": [
    "def backtest_ws(r,weighting=weight_ew,estimation_window=60,**kwargs):\n",
    "    n = r.shape[0]\n",
    "    windows = [(start, start+estimation_window) for start in range(n-estimation_window)]\n",
    "    weights = [weighting(r.iloc[w[0]:w[1]],**kwargs) for w in windows]\n",
    "    weights = pd.DataFrame(weights,index=(r.iloc[estimation_window:]).index,columns=r.columns)\n",
    "    returns = (weights*r).sum(axis='columns',min_count=1)\n",
    "    return returns"
   ]
  },
  {
   "cell_type": "code",
   "execution_count": 41,
   "metadata": {},
   "outputs": [],
   "source": [
    "def horse_race(df,window=60):\n",
    "    number_of_stock = df.shape[1]\n",
    "    ew = backtest_ws(df,weighting=weight_ew,estimation_window=window)\n",
    "    _sample_cov = backtest_ws(df,weighting=weight_gmv,estimation_window=window,cov_estimator=sample_cov)\n",
    "    _cc_cov = backtest_ws(df,weight_gmv,window,cov_estimator=cc_cov)\n",
    "    _shrink_cov = backtest_ws(df,weight_gmv,estimation_window=window,cov_estimator=shrinkage_cov)\n",
    "    _erc = backtest_ws(df,weight_erc,estimation_window=window,cov_estimator=sample_cov)\n",
    "    return pd.DataFrame({'EW':ew,'GMV - Sample Cov':_sample_cov,'GMV - Constant Correlation':_cc_cov,\n",
    "                         'GMV - Shrinkage Cov': _shrink_cov,'ERC':_erc})"
   ]
  },
  {
   "cell_type": "markdown",
   "metadata": {},
   "source": [
    "This process of backtesting will take several mininutes due to the optimization"
   ]
  },
  {
   "cell_type": "code",
   "execution_count": 42,
   "metadata": {},
   "outputs": [],
   "source": [
    "btr1 = horse_race(df_m_ret,60)"
   ]
  },
  {
   "cell_type": "code",
   "execution_count": 43,
   "metadata": {},
   "outputs": [
    {
     "data": {
      "text/html": [
       "<div>\n",
       "<style scoped>\n",
       "    .dataframe tbody tr th:only-of-type {\n",
       "        vertical-align: middle;\n",
       "    }\n",
       "\n",
       "    .dataframe tbody tr th {\n",
       "        vertical-align: top;\n",
       "    }\n",
       "\n",
       "    .dataframe thead th {\n",
       "        text-align: right;\n",
       "    }\n",
       "</style>\n",
       "<table border=\"1\" class=\"dataframe\">\n",
       "  <thead>\n",
       "    <tr style=\"text-align: right;\">\n",
       "      <th></th>\n",
       "      <th>Annualized Return</th>\n",
       "      <th>Annualized Volatility</th>\n",
       "      <th>Skewness</th>\n",
       "      <th>Kurtosis</th>\n",
       "      <th>Historical VaR (5%)</th>\n",
       "      <th>Guassian VaR (5%)</th>\n",
       "      <th>Conditional VaR (5%)</th>\n",
       "      <th>Sharpe Ratio</th>\n",
       "      <th>Max Drawdown</th>\n",
       "    </tr>\n",
       "  </thead>\n",
       "  <tbody>\n",
       "    <tr>\n",
       "      <th>EW</th>\n",
       "      <td>0.132319</td>\n",
       "      <td>0.142129</td>\n",
       "      <td>-0.306093</td>\n",
       "      <td>3.920740</td>\n",
       "      <td>0.064470</td>\n",
       "      <td>0.056460</td>\n",
       "      <td>0.085807</td>\n",
       "      <td>0.723006</td>\n",
       "      <td>-0.362151</td>\n",
       "    </tr>\n",
       "    <tr>\n",
       "      <th>GMV - Sample Cov</th>\n",
       "      <td>0.110359</td>\n",
       "      <td>0.119393</td>\n",
       "      <td>-0.539995</td>\n",
       "      <td>4.215138</td>\n",
       "      <td>0.056879</td>\n",
       "      <td>0.047494</td>\n",
       "      <td>0.076644</td>\n",
       "      <td>0.676760</td>\n",
       "      <td>-0.281051</td>\n",
       "    </tr>\n",
       "    <tr>\n",
       "      <th>GMV - Shrinkage Cov</th>\n",
       "      <td>0.099704</td>\n",
       "      <td>0.119407</td>\n",
       "      <td>-0.627416</td>\n",
       "      <td>4.381286</td>\n",
       "      <td>0.057058</td>\n",
       "      <td>0.048389</td>\n",
       "      <td>0.078647</td>\n",
       "      <td>0.587445</td>\n",
       "      <td>-0.270041</td>\n",
       "    </tr>\n",
       "    <tr>\n",
       "      <th>ERC</th>\n",
       "      <td>0.164536</td>\n",
       "      <td>0.236492</td>\n",
       "      <td>-0.089488</td>\n",
       "      <td>4.842698</td>\n",
       "      <td>0.105952</td>\n",
       "      <td>0.098582</td>\n",
       "      <td>0.149092</td>\n",
       "      <td>0.570746</td>\n",
       "      <td>-0.507840</td>\n",
       "    </tr>\n",
       "    <tr>\n",
       "      <th>GMV - Constant Correlation</th>\n",
       "      <td>0.095618</td>\n",
       "      <td>0.121468</td>\n",
       "      <td>-0.723654</td>\n",
       "      <td>4.346086</td>\n",
       "      <td>0.056899</td>\n",
       "      <td>0.049708</td>\n",
       "      <td>0.082132</td>\n",
       "      <td>0.543839</td>\n",
       "      <td>-0.269091</td>\n",
       "    </tr>\n",
       "  </tbody>\n",
       "</table>\n",
       "</div>"
      ],
      "text/plain": [
       "                            Annualized Return  Annualized Volatility  \\\n",
       "EW                                   0.132319               0.142129   \n",
       "GMV - Sample Cov                     0.110359               0.119393   \n",
       "GMV - Shrinkage Cov                  0.099704               0.119407   \n",
       "ERC                                  0.164536               0.236492   \n",
       "GMV - Constant Correlation           0.095618               0.121468   \n",
       "\n",
       "                            Skewness  Kurtosis  Historical VaR (5%)  \\\n",
       "EW                         -0.306093  3.920740             0.064470   \n",
       "GMV - Sample Cov           -0.539995  4.215138             0.056879   \n",
       "GMV - Shrinkage Cov        -0.627416  4.381286             0.057058   \n",
       "ERC                        -0.089488  4.842698             0.105952   \n",
       "GMV - Constant Correlation -0.723654  4.346086             0.056899   \n",
       "\n",
       "                            Guassian VaR (5%)  Conditional VaR (5%)  \\\n",
       "EW                                   0.056460              0.085807   \n",
       "GMV - Sample Cov                     0.047494              0.076644   \n",
       "GMV - Shrinkage Cov                  0.048389              0.078647   \n",
       "ERC                                  0.098582              0.149092   \n",
       "GMV - Constant Correlation           0.049708              0.082132   \n",
       "\n",
       "                            Sharpe Ratio  Max Drawdown  \n",
       "EW                              0.723006     -0.362151  \n",
       "GMV - Sample Cov                0.676760     -0.281051  \n",
       "GMV - Shrinkage Cov             0.587445     -0.270041  \n",
       "ERC                             0.570746     -0.507840  \n",
       "GMV - Constant Correlation      0.543839     -0.269091  "
      ]
     },
     "execution_count": 43,
     "metadata": {},
     "output_type": "execute_result"
    }
   ],
   "source": [
    "summary_stats(btr1.dropna(),n=12).sort_values(by='Sharpe Ratio',ascending=False)"
   ]
  },
  {
   "cell_type": "code",
   "execution_count": 48,
   "metadata": {},
   "outputs": [
    {
     "data": {
      "text/plain": [
       "<matplotlib.axes._subplots.AxesSubplot at 0x173994d76c8>"
      ]
     },
     "execution_count": 48,
     "metadata": {},
     "output_type": "execute_result"
    },
    {
     "data": {
      "image/png": "[encoded data removed]",
      "text/plain": [
       "<Figure size 864x432 with 1 Axes>"
      ]
     },
     "metadata": {
      "needs_background": "light"
     },
     "output_type": "display_data"
    }
   ],
   "source": [
    "np.exp(btr1.cumsum()).plot(grid=True,figsize=(12,6),legend=True)"
   ]
  }
 ],
 "metadata": {
  "kernelspec": {
   "display_name": "Python 3",
   "language": "python",
   "name": "python3"
  },
  "language_info": {
   "codemirror_mode": {
    "name": "ipython",
    "version": 3
   },
   "file_extension": ".py",
   "mimetype": "text/x-python",
   "name": "python",
   "nbconvert_exporter": "python",
   "pygments_lexer": "ipython3",
   "version": "3.7.6"
  }
 },
 "nbformat": 4,
 "nbformat_minor": 4
}
